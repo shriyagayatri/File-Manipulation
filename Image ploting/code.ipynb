
import numpy as np
import pandas as pd
import matplotlib.pyplot as plt
%matplotlib inline 
""" Can only be used in jupyter notebook to display the graph...For other IDES use plt.show() after your plot commands"""
mat=np.random.randint(0,1000000,(1000,1000))
""" To generate random array of 1000x1000 dimension"""
plt.imshow(mat)
plt.colorbar()
""" To show color bar"""

